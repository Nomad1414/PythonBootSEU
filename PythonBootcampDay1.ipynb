{
  "nbformat": 4,
  "nbformat_minor": 0,
  "metadata": {
    "colab": {
      "name": "PythonBootcampDay1.ipynb",
      "provenance": []
    },
    "kernelspec": {
      "name": "python3",
      "display_name": "Python 3"
    }
  },
  "cells": [
    {
      "cell_type": "markdown",
      "metadata": {
        "id": "rdblHHpnJh_5"
      },
      "source": [
        "***Day1***\r\n",
        "\r\n",
        "# **Ibrahim Alessa**\r\n",
        "\r\n"
      ]
    },
    {
      "cell_type": "code",
      "metadata": {
        "id": "dNkIlyod2KGo",
        "colab": {
          "base_uri": "https://localhost:8080/"
        },
        "outputId": "0db8266d-47af-4304-acd6-8d1df11a1a09"
      },
      "source": [
        "Name = input(\"Enter you name plz\\n\")\r\n",
        "print(\"Welcome\", Name)"
      ],
      "execution_count": 5,
      "outputs": [
        {
          "output_type": "stream",
          "text": [
            "Enter you name plz\n",
            "ibrahim\n",
            "Welcome ibrahim\n"
          ],
          "name": "stdout"
        }
      ]
    },
    {
      "cell_type": "code",
      "metadata": {
        "colab": {
          "base_uri": "https://localhost:8080/"
        },
        "id": "5KeOust4MWFo",
        "outputId": "c74f0362-e554-49e6-ad2d-f61cd86cb35e"
      },
      "source": [
        "numb1 = float (input(\"Enter the First digit\\n\"))\r\n",
        "numb2 = float (input(\"Enter the Second digit\\n\"))\r\n",
        "print("the sum is", numb1 + numb2)"
      ],
      "execution_count": null,
      "outputs": [
        {
          "output_type": "stream",
          "text": [
            "Enter the First digit 6.4\n",
            "Enter the Second digit 6.4\n",
            "12.8\n"
          ],
          "name": "stdout"
        }
      ]
    }
  ]
}
