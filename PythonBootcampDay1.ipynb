{
  "nbformat": 4,
  "nbformat_minor": 0,
  "metadata": {
    "colab": {
      "name": "PythonBootcampDay1.ipynb",
      "provenance": []
    },
    "kernelspec": {
      "name": "python3",
      "display_name": "Python 3"
    }
  },
  "cells": [
    {
      "cell_type": "markdown",
      "metadata": {
        "id": "rdblHHpnJh_5"
      },
      "source": [
        "***Day1***\r\n",
        "\r\n",
        "# **Ibrahim Alessa**\r\n",
        "\r\n"
      ]
    },
    {
      "cell_type": "code",
      "metadata": {
        "id": "dNkIlyod2KGo",
        "colab": {
          "base_uri": "https://localhost:8080/"
        },
        "outputId": "be0a6459-4714-440c-c7cf-6b9c6fe85ed5"
      },
      "source": [
        "Name = input(\"Enter you name plz  \")\r\n",
        "print(\"Welcome \", Name)"
      ],
      "execution_count": null,
      "outputs": [
        {
          "output_type": "stream",
          "text": [
            "Enter you name plz  Ibrahim\n",
            "Welcome  Ibrahim\n"
          ],
          "name": "stdout"
        }
      ]
    },
    {
      "cell_type": "code",
      "metadata": {
        "colab": {
          "base_uri": "https://localhost:8080/"
        },
        "id": "5KeOust4MWFo",
        "outputId": "c74f0362-e554-49e6-ad2d-f61cd86cb35e"
      },
      "source": [
        "numb1 = float (input(\"Enter the First digit \"))\r\n",
        "numb2 = float (input(\"Enter the Second digit \"))\r\n",
        "print(numb1 + numb2)"
      ],
      "execution_count": null,
      "outputs": [
        {
          "output_type": "stream",
          "text": [
            "Enter the First digit 6.4\n",
            "Enter the Second digit 6.4\n",
            "12.8\n"
          ],
          "name": "stdout"
        }
      ]
    }
  ]
}