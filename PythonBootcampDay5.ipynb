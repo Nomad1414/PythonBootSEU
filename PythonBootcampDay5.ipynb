{
 "cells": [
  {
   "cell_type": "markdown",
   "metadata": {},
   "source": [
    "# Numpy Practice "
   ]
  },
  {
   "cell_type": "markdown",
   "metadata": {},
   "source": [
    "### Do The following :\n",
    "- Finish the practice\n",
    "- share it on your github account"
   ]
  },
  {
   "cell_type": "markdown",
   "metadata": {},
   "source": [
    "#### Write the code that will produce the requested output or action as you see on the following cell"
   ]
  },
  {
   "cell_type": "code",
   "execution_count": 9,
   "metadata": {},
   "outputs": [
    {
     "name": "stdout",
     "output_type": "stream",
     "text": [
      "Hello, Mohammed\n"
     ]
    }
   ],
   "source": [
    "## For example \n",
    "## to get the output Hello, Mohammed\n",
    "print(\"Hello, Mohammed\") ## TODO"
   ]
  },
  {
   "cell_type": "code",
   "execution_count": 1,
   "metadata": {},
   "outputs": [
    {
     "name": "stdout",
     "output_type": "stream",
     "text": [
      "Hello, my name is 'jack'\n"
     ]
    }
   ],
   "source": [
    "x = print(\"Hello, my name is 'jack'\")\n",
    "x"
   ]
  },
  {
   "cell_type": "markdown",
   "metadata": {},
   "source": [
    "### import the package numpy and make the shortcut \"np\" for it. "
   ]
  },
  {
   "cell_type": "code",
   "execution_count": 2,
   "metadata": {},
   "outputs": [
    {
     "name": "stdout",
     "output_type": "stream",
     "text": [
      "Requirement already satisfied: numpy in c:\\python38\\lib\\site-packages (1.19.5)\n"
     ]
    }
   ],
   "source": [
    "## TODO\n",
    "\n",
    "!pip install numpy\n",
    "import numpy as np"
   ]
  },
  {
   "cell_type": "markdown",
   "metadata": {},
   "source": [
    "#### define a numpy array [1, 2, 3, 4, 5] and assign it to variable x "
   ]
  },
  {
   "cell_type": "code",
   "execution_count": 3,
   "metadata": {},
   "outputs": [],
   "source": [
    "## TODO\n",
    "\n",
    "x = np.array([1,2,3,4,5])"
   ]
  },
  {
   "cell_type": "markdown",
   "metadata": {},
   "source": [
    "### Print x "
   ]
  },
  {
   "cell_type": "code",
   "execution_count": 4,
   "metadata": {},
   "outputs": [
    {
     "name": "stdout",
     "output_type": "stream",
     "text": [
      "[1 2 3 4 5]\n"
     ]
    }
   ],
   "source": [
    "## TODO \n",
    "print (x)"
   ]
  },
  {
   "cell_type": "markdown",
   "metadata": {},
   "source": [
    "### Print the mean of x using numpy "
   ]
  },
  {
   "cell_type": "code",
   "execution_count": 5,
   "metadata": {},
   "outputs": [
    {
     "data": {
      "text/plain": [
       "('The mean of the array is:', 3.0)"
      ]
     },
     "execution_count": 5,
     "metadata": {},
     "output_type": "execute_result"
    }
   ],
   "source": [
    "## TODO\n",
    "\"The mean of the array is:\",x.mean()"
   ]
  },
  {
   "cell_type": "markdown",
   "metadata": {},
   "source": [
    "### Print the maximum number in array x"
   ]
  },
  {
   "cell_type": "code",
   "execution_count": 6,
   "metadata": {},
   "outputs": [
    {
     "data": {
      "text/plain": [
       "('the maximum number of the array is:', 5)"
      ]
     },
     "execution_count": 6,
     "metadata": {},
     "output_type": "execute_result"
    }
   ],
   "source": [
    "## TODO \n",
    "\"the maximum number of the array is:\",x.max()"
   ]
  },
  {
   "cell_type": "markdown",
   "metadata": {},
   "source": [
    "### Generate a random number between 35 and 40"
   ]
  },
  {
   "cell_type": "code",
   "execution_count": 7,
   "metadata": {},
   "outputs": [
    {
     "data": {
      "text/plain": [
       "38"
      ]
     },
     "execution_count": 7,
     "metadata": {},
     "output_type": "execute_result"
    }
   ],
   "source": [
    "## TODO \n",
    "#pick intger number or float numbers \n",
    "#by Removing the '#'\n",
    "rng = np.random.default_rng()\n",
    "\n",
    "#rng.random.uniform(35,40) # float\n",
    "\n",
    "np.random.randint(35,40)  # int"
   ]
  },
  {
   "cell_type": "markdown",
   "metadata": {},
   "source": [
    "### generate a list (N) of 1000 numbers with random values between 100 and 150  "
   ]
  },
  {
   "cell_type": "code",
   "execution_count": 8,
   "metadata": {},
   "outputs": [
    {
     "data": {
      "text/plain": [
       "array([139, 147, 113, 134, 108, 128, 116, 130, 140, 142, 137, 146, 103,\n",
       "       104, 117, 112, 126, 104, 107, 142, 130, 123, 122, 105, 119, 141,\n",
       "       119, 134, 100, 147, 131, 113, 142, 100, 144, 147, 104, 126, 124,\n",
       "       122, 101, 148, 109, 107, 111, 137, 109, 104, 135, 112, 136, 127,\n",
       "       144, 116, 133, 119, 119, 108, 107, 109, 130, 127, 148, 120, 131,\n",
       "       102, 103, 126, 101, 116, 123, 133, 105, 139, 128, 105, 129, 117,\n",
       "       127, 147, 118, 114, 120, 137, 117, 106, 121, 121, 149, 105, 139,\n",
       "       115, 129, 129, 113, 106, 104, 142, 103, 100, 136, 113, 145, 148,\n",
       "       145, 124, 132, 114, 138, 109, 138, 114, 127, 109, 148, 106, 117,\n",
       "       117, 139, 100, 119, 142, 138, 115, 123, 110, 137, 144, 132, 118,\n",
       "       111, 102, 149, 114, 149, 101, 102, 125, 129, 102, 125, 121, 110,\n",
       "       103, 101, 127, 119, 105, 115, 137, 126, 121, 144, 113, 131, 126,\n",
       "       138, 102, 111, 115, 149, 114, 141, 140, 140, 139, 126, 129, 104,\n",
       "       145, 105, 136, 131, 132, 110, 114, 138, 122, 147, 111, 127, 128,\n",
       "       110, 105, 147, 138, 147, 118, 106, 102, 100, 132, 147, 121, 142,\n",
       "       125, 139, 119, 130, 119, 143, 142, 119, 126, 132, 130, 100, 103,\n",
       "       107, 138, 100, 145, 138, 134, 145, 114, 126, 117, 102, 125, 122,\n",
       "       108, 108, 139, 107, 110, 143, 100, 112, 139, 106, 143, 106, 116,\n",
       "       107, 118, 130, 117, 131, 122, 134, 138, 101, 138, 132, 110, 124,\n",
       "       101, 134, 111, 136, 110, 141, 129, 147, 111, 127, 100, 134, 147,\n",
       "       103, 137, 129, 132, 104, 143, 131, 149, 143, 134, 130, 129, 133,\n",
       "       145, 133, 136, 127, 141, 105, 114, 134, 118, 115, 144, 110, 120,\n",
       "       117, 113, 139, 144, 141, 109, 144, 125, 123, 126, 109, 137, 116,\n",
       "       147, 119, 115, 118, 114, 110, 125, 130, 109, 116, 133, 123, 144,\n",
       "       134, 119, 106, 136, 143, 125, 140, 103, 145, 119, 100, 133, 118,\n",
       "       119, 148, 106, 103, 144, 120, 133, 108, 118, 149, 118, 110, 137,\n",
       "       127, 141, 138, 147, 102, 149, 123, 132, 123, 106, 111, 105, 118,\n",
       "       122, 127, 113, 121, 114, 148, 137, 147, 120, 119, 149, 107, 104,\n",
       "       119, 125, 139, 123, 144, 149, 116, 138, 105, 100, 106, 121, 127,\n",
       "       105, 112, 143, 109, 127, 108, 120, 148, 110, 116, 106, 144, 100,\n",
       "       142, 110, 103, 127, 116, 122, 128, 127, 143, 105, 125, 113, 138,\n",
       "       110, 106, 143, 124, 111, 141, 108, 143, 143, 101, 112, 118, 103,\n",
       "       115, 102, 102, 126, 111, 136, 142, 102, 140, 142, 102, 115, 147,\n",
       "       116, 114, 103, 149, 127, 121, 146, 102, 136, 101, 115, 125, 147,\n",
       "       126, 112, 138, 141, 106, 125, 119, 120, 127, 103, 106, 127, 146,\n",
       "       109, 141, 113, 137, 138, 128, 108, 139, 103, 144, 108, 100, 122,\n",
       "       145, 110, 137, 115, 145, 146, 135, 122, 125, 105, 144, 113, 142,\n",
       "       148, 132, 111, 143, 105, 148, 124, 133, 135, 109, 139, 129, 128,\n",
       "       118, 132, 122, 131, 139, 130, 119, 119, 126, 121, 137, 109, 145,\n",
       "       149, 115, 107, 124, 119, 149, 142, 141, 120, 101, 147, 147, 134,\n",
       "       118, 149, 124, 148, 138, 107, 128, 101, 110, 135, 143, 142, 129,\n",
       "       107, 125, 139, 114, 134, 128, 122, 107, 118, 146, 130, 148, 139,\n",
       "       137, 141, 100, 108, 145, 138, 142, 142, 128, 130, 147, 121, 125,\n",
       "       149, 104, 120, 146, 138, 131, 108, 108, 118, 100, 129, 128, 134,\n",
       "       136, 121, 105, 144, 128, 148, 142, 121, 106, 106, 144, 122, 111,\n",
       "       117, 136, 148, 123, 114, 139, 117, 137, 125, 109, 100, 146, 130,\n",
       "       100, 119, 118, 134, 112, 124, 140, 102, 120, 122, 103, 114, 138,\n",
       "       144, 114, 106, 113, 133, 143, 110, 115, 131, 125, 119, 104, 107,\n",
       "       145, 133, 112, 110, 143, 137, 107, 119, 147, 149, 136, 144, 110,\n",
       "       120, 144, 134, 146, 134, 108, 107, 109, 133, 100, 115, 127, 131,\n",
       "       145, 109, 107, 116, 119, 112, 110, 147, 136, 117, 120, 136, 138,\n",
       "       149, 116, 113, 130, 130, 130, 128, 101, 132, 100, 145, 136, 110,\n",
       "       141, 118, 105, 107, 116, 126, 125, 141, 125, 128, 133, 141, 105,\n",
       "       117, 143, 130, 144, 127, 101, 146, 123, 128, 104, 131, 103, 124,\n",
       "       127, 121, 112, 126, 125, 126, 124, 122, 125, 148, 126, 106, 123,\n",
       "       123, 142, 113, 147, 134, 105, 136, 125, 147, 143, 143, 120, 142,\n",
       "       109, 142, 121, 120, 135, 124, 113, 134, 107, 118, 122, 118, 133,\n",
       "       144, 126, 130, 110, 126, 123, 129, 124, 146, 145, 123, 113, 127,\n",
       "       142, 106, 137, 141, 116, 125, 131, 141, 106, 121, 138, 143, 137,\n",
       "       146, 108, 131, 121, 119, 122, 100, 106, 127, 143, 104, 145, 101,\n",
       "       101, 139, 103, 135, 119, 114, 132, 105, 139, 101, 136, 126, 102,\n",
       "       143, 145, 110, 109, 103, 102, 144, 135, 136, 109, 144, 130, 122,\n",
       "       107, 108, 138, 107, 131, 126, 103, 108, 134, 131, 136, 119, 119,\n",
       "       132, 100, 143, 138, 121, 100, 106, 114, 118, 139, 116, 122, 117,\n",
       "       143, 144, 133, 134, 108, 149, 119, 147, 102, 110, 149, 118, 101,\n",
       "       147, 146, 107, 102, 134, 127, 141, 125, 117, 126, 148, 118, 144,\n",
       "       119, 115, 131, 148, 124, 112, 115, 134, 109, 148, 134, 112, 133,\n",
       "       103, 125, 141, 126, 126, 110, 123, 101, 130, 140, 131, 131, 110,\n",
       "       145, 105, 146, 119, 142, 140, 141, 117, 126, 115, 130, 140, 131,\n",
       "       144, 100, 120, 147, 107, 137, 110, 100, 100, 140, 106, 135, 141,\n",
       "       116, 135, 143, 106, 137, 111, 105, 118, 133, 132, 117, 119, 121,\n",
       "       105, 127, 142, 144, 116, 128, 137, 126, 143, 149, 106, 144, 100,\n",
       "       120, 139, 100, 114, 134, 107, 110, 115, 114, 131, 136, 123, 110,\n",
       "       113, 101, 147, 102, 100, 116, 148, 101, 140, 119, 137, 127, 118,\n",
       "       131, 140, 143, 149, 142, 134, 137, 107, 133, 149, 135, 149, 120,\n",
       "       134, 134, 112, 111, 119, 102, 138, 138, 138, 112, 105, 119, 140,\n",
       "       133, 129, 123, 113, 120, 124, 141, 131, 145, 108, 108, 135])"
      ]
     },
     "execution_count": 8,
     "metadata": {},
     "output_type": "execute_result"
    }
   ],
   "source": [
    "## TODO \n",
    "#pick intger number or float numbers \n",
    "#by Removing the '#'\n",
    "\n",
    "# N = rng.random.uniform(low = 100, high = 150, size= 1000) # float\n",
    "\n",
    "N = np.random.randint(100,150,size =(1000))                # int\n",
    "\n",
    "N"
   ]
  },
  {
   "cell_type": "markdown",
   "metadata": {},
   "source": [
    "### get the mean, median, std, and variance of the list N "
   ]
  },
  {
   "cell_type": "code",
   "execution_count": 9,
   "metadata": {},
   "outputs": [
    {
     "name": "stdout",
     "output_type": "stream",
     "text": [
      "The Mean is 124.596\n",
      "The Median is 125.0\n",
      "The std is 14.653354018790372\n",
      "The variance is 214.72078399999995\n"
     ]
    }
   ],
   "source": [
    "## TODO \n",
    "print('The Mean is', np.mean(N))\n",
    "print('The Median is',np.median(N))\n",
    "print('The std is',N.std())\n",
    "print('The variance is',np.var(N))"
   ]
  },
  {
   "cell_type": "markdown",
   "metadata": {},
   "source": [
    "### generate a 2D array of size 3 x 4 of random numbers between 18-65 "
   ]
  },
  {
   "cell_type": "code",
   "execution_count": 10,
   "metadata": {},
   "outputs": [
    {
     "data": {
      "text/plain": [
       "array([[36, 53, 47, 48],\n",
       "       [63, 51, 55, 53],\n",
       "       [21, 34, 40, 43]])"
      ]
     },
     "execution_count": 10,
     "metadata": {},
     "output_type": "execute_result"
    }
   ],
   "source": [
    "##TODO \n",
    "#pick intger number or float numbers \n",
    "#by Removing the '#'\n",
    "\n",
    "\n",
    "D2 = np.random.randint(18,65,size=(3,4)) #int\n",
    "\n",
    "#D2 = rng.uniform(low=18, high=65, size=(3,4)) #float\n",
    "\n",
    "D2"
   ]
  },
  {
   "cell_type": "markdown",
   "metadata": {
    "collapsed": true
   },
   "source": [
    "### Get the mean for every columns N"
   ]
  },
  {
   "cell_type": "code",
   "execution_count": 11,
   "metadata": {},
   "outputs": [
    {
     "name": "stdout",
     "output_type": "stream",
     "text": [
      "This is the First column  40.0\n",
      "This is the Second column 46.0\n",
      "This is the Thered column 47.333333333333336\n"
     ]
    },
    {
     "data": {
      "text/plain": [
       "array([[36, 53, 47, 48],\n",
       "       [63, 51, 55, 53],\n",
       "       [21, 34, 40, 43]])"
      ]
     },
     "execution_count": 11,
     "metadata": {},
     "output_type": "execute_result"
    }
   ],
   "source": [
    "## TODO\n",
    "# axis for colums is 0\n",
    "# axis for rows is 1\n",
    "C = D2.mean(axis = 0)\n",
    "print(f'This is the First column  {C[0]}') \n",
    "\n",
    "print(f'This is the Second column {C[1]}')\n",
    "\n",
    "print(f'This is the Thered column {C[2]}')\n",
    "\n",
    "D2"
   ]
  },
  {
   "cell_type": "markdown",
   "metadata": {},
   "source": [
    "### Get the mean for every row of N \n"
   ]
  },
  {
   "cell_type": "code",
   "execution_count": 12,
   "metadata": {},
   "outputs": [
    {
     "name": "stdout",
     "output_type": "stream",
     "text": [
      "This is the First row  46.0\n",
      "This is the Second row 55.5\n",
      "This is the Thered row 34.5\n"
     ]
    },
    {
     "data": {
      "text/plain": [
       "array([[36, 53, 47, 48],\n",
       "       [63, 51, 55, 53],\n",
       "       [21, 34, 40, 43]])"
      ]
     },
     "execution_count": 12,
     "metadata": {},
     "output_type": "execute_result"
    }
   ],
   "source": [
    "## TODO\n",
    "# axis for colums is 0\n",
    "# axis for rows is 1\n",
    "R = D2.mean(axis = 1)\n",
    "print(f'This is the First row  {R[0]}') \n",
    "\n",
    "print(f'This is the Second row {R[1]}')\n",
    "\n",
    "print(f'This is the Thered row {R[2]}')\n",
    "\n",
    "D2"
   ]
  },
  {
   "cell_type": "markdown",
   "metadata": {},
   "source": [
    "### Create the following 2D array (S) of students grade in a classroom\n",
    "- grades [coursework, midterm exam, final exam]\n",
    "- [20, 15, 40]\n",
    "- [25, 24, 35]\n",
    "- [21, 15, 25]"
   ]
  },
  {
   "cell_type": "code",
   "execution_count": 13,
   "metadata": {},
   "outputs": [
    {
     "data": {
      "text/plain": [
       "array([[20, 15, 40],\n",
       "       [25, 24, 35],\n",
       "       [21, 15, 25]])"
      ]
     },
     "execution_count": 13,
     "metadata": {},
     "output_type": "execute_result"
    }
   ],
   "source": [
    "## TODO\n",
    "\n",
    "S = np.array([[20, 15, 40],[25, 24, 35],[21, 15, 25],])\n",
    "\n",
    "#G = np.array(['coursework', 'midterm exam', 'final exam'])\n",
    "\n",
    "S"
   ]
  },
  {
   "cell_type": "markdown",
   "metadata": {},
   "source": [
    "### Get the sums of student grades in S"
   ]
  },
  {
   "cell_type": "code",
   "execution_count": 14,
   "metadata": {},
   "outputs": [
    {
     "name": "stdout",
     "output_type": "stream",
     "text": [
      "Student 1 = 75\n",
      "Student 2 = 84\n",
      "Student 3 = 61\n"
     ]
    }
   ],
   "source": [
    "## TODO\n",
    "# axis for colums is 0\n",
    "# axis for rows is 1\n",
    "grade = S.sum(axis = 1)\n",
    "\n",
    "print('Student 1 =',grade[0])\n",
    "print('Student 2 =',grade[1])\n",
    "print('Student 3 =',grade[2])"
   ]
  },
  {
   "cell_type": "markdown",
   "metadata": {},
   "source": [
    "### Get the means of student grades in every activity (coursework, midterm exam, final exam) in S"
   ]
  },
  {
   "cell_type": "code",
   "execution_count": 15,
   "metadata": {},
   "outputs": [
    {
     "name": "stdout",
     "output_type": "stream",
     "text": [
      "This is the Mean of Coursework 22.0\n",
      "This is the Mean of Midterm exam 18.0\n",
      "This is the Mean of Final exam 33.333333333333336\n"
     ]
    },
    {
     "data": {
      "text/plain": [
       "array([[20, 15, 40],\n",
       "       [25, 24, 35],\n",
       "       [21, 15, 25]])"
      ]
     },
     "execution_count": 15,
     "metadata": {},
     "output_type": "execute_result"
    }
   ],
   "source": [
    "## TODO\n",
    "# axis for colums is 0\n",
    "# axis for rows is 1\n",
    "activity = S.mean(axis = 0)\n",
    "\n",
    "print(f\"This is the Mean of Coursework {activity[0]}\")\n",
    "print(f\"This is the Mean of Midterm exam {activity[1]}\")\n",
    "print(f\"This is the Mean of Final exam {activity[2]}\")\n",
    "S"
   ]
  },
  {
   "cell_type": "markdown",
   "metadata": {},
   "source": [
    "### reshape S in a way that make the colums represent the students and rows represent the activity, as follow\n",
    "- [20, 25, 21] \n",
    "- [15, 24, 15]\n",
    "- [40, 35, 25]"
   ]
  },
  {
   "cell_type": "code",
   "execution_count": 16,
   "metadata": {},
   "outputs": [
    {
     "data": {
      "text/plain": [
       "array([[20, 25, 21],\n",
       "       [15, 24, 15],\n",
       "       [40, 35, 25]])"
      ]
     },
     "execution_count": 16,
     "metadata": {},
     "output_type": "execute_result"
    }
   ],
   "source": [
    "## TODO\n",
    "b = S.transpose()\n",
    "#print(\"testoutput\",b.mean(axis=1)[0])\n",
    "#print(\"testoutput\",b.mean(axis=1)[1])\n",
    "#print(\"testoutput\",b.mean(axis=1)[2])\n",
    "b"
   ]
  },
  {
   "cell_type": "markdown",
   "metadata": {},
   "source": [
    "# Pandas Practice "
   ]
  },
  {
   "cell_type": "markdown",
   "metadata": {},
   "source": [
    "### import the package pandas and make the shortcut \"pd\" for it. "
   ]
  },
  {
   "cell_type": "code",
   "execution_count": 17,
   "metadata": {},
   "outputs": [
    {
     "name": "stdout",
     "output_type": "stream",
     "text": [
      "Requirement already satisfied: pandas in c:\\python38\\lib\\site-packages (1.2.0)\n",
      "Requirement already satisfied: numpy>=1.16.5 in c:\\python38\\lib\\site-packages (from pandas) (1.19.5)\n",
      "Requirement already satisfied: python-dateutil>=2.7.3 in c:\\python38\\lib\\site-packages (from pandas) (2.8.1)\n",
      "Requirement already satisfied: pytz>=2017.3 in c:\\python38\\lib\\site-packages (from pandas) (2020.1)\n",
      "Requirement already satisfied: six>=1.5 in c:\\python38\\lib\\site-packages (from python-dateutil>=2.7.3->pandas) (1.15.0)\n"
     ]
    }
   ],
   "source": [
    "## TODO\n",
    "!pip install pandas\n",
    "import pandas as pd"
   ]
  },
  {
   "cell_type": "markdown",
   "metadata": {},
   "source": [
    "### create Series call it (Data) with the values 'a','b','d','u' and 'I'"
   ]
  },
  {
   "cell_type": "code",
   "execution_count": 18,
   "metadata": {},
   "outputs": [
    {
     "data": {
      "text/plain": [
       "['a', 'b', 'd', 'u', 'I']"
      ]
     },
     "execution_count": 18,
     "metadata": {},
     "output_type": "execute_result"
    }
   ],
   "source": [
    "## TODO\n",
    "\n",
    "data = ['a','b','d','u','I']\n",
    "data"
   ]
  },
  {
   "cell_type": "markdown",
   "metadata": {},
   "source": [
    "### change index to 3,6,9,12, and 15 for (data) "
   ]
  },
  {
   "cell_type": "code",
   "execution_count": 19,
   "metadata": {},
   "outputs": [
    {
     "data": {
      "text/plain": [
       "3     a\n",
       "6     b\n",
       "9     d\n",
       "12    u\n",
       "15    I\n",
       "dtype: object"
      ]
     },
     "execution_count": 19,
     "metadata": {},
     "output_type": "execute_result"
    }
   ],
   "source": [
    "## TODO\n",
    "\n",
    "index = [3,6,9,12,15]\n",
    "changer = pd.Series(data,index)\n",
    "changer"
   ]
  },
  {
   "cell_type": "markdown",
   "metadata": {},
   "source": [
    "### change index to client1, client2, client3, client4 and client5 for (data) "
   ]
  },
  {
   "cell_type": "code",
   "execution_count": 20,
   "metadata": {},
   "outputs": [
    {
     "data": {
      "text/plain": [
       "client1    a\n",
       "client2    b\n",
       "client3    d\n",
       "client4    u\n",
       "client5    I\n",
       "dtype: object"
      ]
     },
     "execution_count": 20,
     "metadata": {},
     "output_type": "execute_result"
    }
   ],
   "source": [
    "## TODO \n",
    "pd.Series(data,index=['client1','client2','client3','client4','client5',])"
   ]
  },
  {
   "cell_type": "markdown",
   "metadata": {},
   "source": [
    "### create a dataframe (D) with the followin values\n",
    "- \tName -\tAge\n",
    "-   Ali\t -  55\n",
    "- \tAhmad -\t15\n",
    "- \tNora -\t40"
   ]
  },
  {
   "cell_type": "markdown",
   "metadata": {},
   "source": [
    "### Get the means of ages of people in (D)"
   ]
  },
  {
   "cell_type": "code",
   "execution_count": 21,
   "metadata": {},
   "outputs": [
    {
     "data": {
      "text/html": [
       "<div>\n",
       "<style scoped>\n",
       "    .dataframe tbody tr th:only-of-type {\n",
       "        vertical-align: middle;\n",
       "    }\n",
       "\n",
       "    .dataframe tbody tr th {\n",
       "        vertical-align: top;\n",
       "    }\n",
       "\n",
       "    .dataframe thead th {\n",
       "        text-align: right;\n",
       "    }\n",
       "</style>\n",
       "<table border=\"1\" class=\"dataframe\">\n",
       "  <thead>\n",
       "    <tr style=\"text-align: right;\">\n",
       "      <th></th>\n",
       "      <th>Name</th>\n",
       "      <th>Age</th>\n",
       "    </tr>\n",
       "  </thead>\n",
       "  <tbody>\n",
       "    <tr>\n",
       "      <th>0</th>\n",
       "      <td>Ali</td>\n",
       "      <td>55</td>\n",
       "    </tr>\n",
       "    <tr>\n",
       "      <th>1</th>\n",
       "      <td>Ahmad</td>\n",
       "      <td>15</td>\n",
       "    </tr>\n",
       "    <tr>\n",
       "      <th>2</th>\n",
       "      <td>Nora</td>\n",
       "      <td>40</td>\n",
       "    </tr>\n",
       "  </tbody>\n",
       "</table>\n",
       "</div>"
      ],
      "text/plain": [
       "    Name  Age\n",
       "0    Ali   55\n",
       "1  Ahmad   15\n",
       "2   Nora   40"
      ]
     },
     "execution_count": 21,
     "metadata": {},
     "output_type": "execute_result"
    }
   ],
   "source": [
    "## TODO expected value is 36.66\n",
    "#D = pd.DataFrame([['Ali',55],[\"Ahmad\",15],['Nora',40]],columns=['Name','Age'])\n",
    "\n",
    "name=['Ali','Ahmad','Nora']\n",
    "age = [55,15,40]\n",
    "D = pd.DataFrame({'Name':name,'Age':age})\n",
    "\n",
    "D"
   ]
  },
  {
   "cell_type": "code",
   "execution_count": 22,
   "metadata": {},
   "outputs": [
    {
     "data": {
      "text/plain": [
       "Age    36.666667\n",
       "dtype: float64"
      ]
     },
     "execution_count": 22,
     "metadata": {},
     "output_type": "execute_result"
    }
   ],
   "source": [
    "D.mean()"
   ]
  },
  {
   "cell_type": "code",
   "execution_count": null,
   "metadata": {},
   "outputs": [],
   "source": []
  }
 ],
 "metadata": {
  "kernelspec": {
   "display_name": "Python 3",
   "language": "python",
   "name": "python3"
  },
  "language_info": {
   "codemirror_mode": {
    "name": "ipython",
    "version": 3
   },
   "file_extension": ".py",
   "mimetype": "text/x-python",
   "name": "python",
   "nbconvert_exporter": "python",
   "pygments_lexer": "ipython3",
   "version": "3.8.3"
  }
 },
 "nbformat": 4,
 "nbformat_minor": 1
}
